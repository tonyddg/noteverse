{
 "cells": [
  {
   "cell_type": "code",
   "execution_count": 3,
   "metadata": {},
   "outputs": [
    {
     "name": "stdout",
     "output_type": "stream",
     "text": [
      "Downloading and preparing dataset imdb_reviews (80.23 MiB) to C:\\Users\\tonyddg\\tensorflow_datasets\\imdb_reviews\\plain_text\\0.1.0...\n"
     ]
    },
    {
     "data": {
      "application/vnd.jupyter.widget-view+json": {
       "model_id": "86b8dee9fb764b2f9209293b755ae8d5",
       "version_major": 2,
       "version_minor": 0
      },
      "text/plain": [
       "Dl Completed...: 0 url [00:00, ? url/s]"
      ]
     },
     "metadata": {},
     "output_type": "display_data"
    },
    {
     "data": {
      "application/vnd.jupyter.widget-view+json": {
       "model_id": "3e3b1f44f6a942d2b9b9dbcf5c546ed0",
       "version_major": 2,
       "version_minor": 0
      },
      "text/plain": [
       "Dl Size...: 0 MiB [00:00, ? MiB/s]"
      ]
     },
     "metadata": {},
     "output_type": "display_data"
    },
    {
     "name": "stdout",
     "output_type": "stream",
     "text": [
      "\n",
      "\n"
     ]
    },
    {
     "data": {
      "application/vnd.jupyter.widget-view+json": {
       "model_id": "257a0808c8264a7bb0fc83e3718834c0",
       "version_major": 2,
       "version_minor": 0
      },
      "text/plain": [
       "0 examples [00:00, ? examples/s]"
      ]
     },
     "metadata": {},
     "output_type": "display_data"
    },
    {
     "data": {
      "application/vnd.jupyter.widget-view+json": {
       "model_id": "faf2bed3f0ad4bd28ee9119a05267ca3",
       "version_major": 2,
       "version_minor": 0
      },
      "text/plain": [
       "Shuffling...:   0%|          | 0/10 [00:00<?, ? shard/s]"
      ]
     },
     "metadata": {},
     "output_type": "display_data"
    },
    {
     "name": "stdout",
     "output_type": "stream",
     "text": [
      "WARNING:tensorflow:From d:\\anaconda3\\envs\\ai_learn_opencv_tensorflow\\lib\\site-packages\\tensorflow_datasets\\core\\file_format_adapter.py:209: tf_record_iterator (from tensorflow.python.lib.io.tf_record) is deprecated and will be removed in a future version.\n",
      "Instructions for updating:\n",
      "Use eager execution and: \n",
      "`tf.data.TFRecordDataset(path)`\n"
     ]
    },
    {
     "name": "stderr",
     "output_type": "stream",
     "text": [
      "WARNING:tensorflow:From d:\\anaconda3\\envs\\ai_learn_opencv_tensorflow\\lib\\site-packages\\tensorflow_datasets\\core\\file_format_adapter.py:209: tf_record_iterator (from tensorflow.python.lib.io.tf_record) is deprecated and will be removed in a future version.\n",
      "Instructions for updating:\n",
      "Use eager execution and: \n",
      "`tf.data.TFRecordDataset(path)`\n"
     ]
    },
    {
     "data": {
      "application/vnd.jupyter.widget-view+json": {
       "model_id": "866774d121394aaea442a25fdb927bdd",
       "version_major": 2,
       "version_minor": 0
      },
      "text/plain": [
       "Reading...: 0 examples [00:00, ? examples/s]"
      ]
     },
     "metadata": {},
     "output_type": "display_data"
    },
    {
     "data": {
      "application/vnd.jupyter.widget-view+json": {
       "model_id": "43d312d0dce146659c26c6d9be59d520",
       "version_major": 2,
       "version_minor": 0
      },
      "text/plain": [
       "Writing...:   0%|          | 0/2500 [00:00<?, ? examples/s]"
      ]
     },
     "metadata": {},
     "output_type": "display_data"
    },
    {
     "data": {
      "application/vnd.jupyter.widget-view+json": {
       "model_id": "5825641f9e39403fbe5db87975bcf61e",
       "version_major": 2,
       "version_minor": 0
      },
      "text/plain": [
       "Reading...: 0 examples [00:00, ? examples/s]"
      ]
     },
     "metadata": {},
     "output_type": "display_data"
    },
    {
     "data": {
      "application/vnd.jupyter.widget-view+json": {
       "model_id": "6f2e3e47a8a6422bb5fdb56d80a88876",
       "version_major": 2,
       "version_minor": 0
      },
      "text/plain": [
       "Writing...:   0%|          | 0/2500 [00:00<?, ? examples/s]"
      ]
     },
     "metadata": {},
     "output_type": "display_data"
    },
    {
     "data": {
      "application/vnd.jupyter.widget-view+json": {
       "model_id": "19bc37eea1674475b9789cc132cd10f5",
       "version_major": 2,
       "version_minor": 0
      },
      "text/plain": [
       "Reading...: 0 examples [00:00, ? examples/s]"
      ]
     },
     "metadata": {},
     "output_type": "display_data"
    },
    {
     "data": {
      "application/vnd.jupyter.widget-view+json": {
       "model_id": "8cf98b5b9ac24787afe58007f760728c",
       "version_major": 2,
       "version_minor": 0
      },
      "text/plain": [
       "Writing...:   0%|          | 0/2500 [00:00<?, ? examples/s]"
      ]
     },
     "metadata": {},
     "output_type": "display_data"
    },
    {
     "data": {
      "application/vnd.jupyter.widget-view+json": {
       "model_id": "905b62b85e2340d493d5f13e8b10fcca",
       "version_major": 2,
       "version_minor": 0
      },
      "text/plain": [
       "Reading...: 0 examples [00:00, ? examples/s]"
      ]
     },
     "metadata": {},
     "output_type": "display_data"
    },
    {
     "data": {
      "application/vnd.jupyter.widget-view+json": {
       "model_id": "bceed71da93c4e5a86f8f51c9b8ba4cf",
       "version_major": 2,
       "version_minor": 0
      },
      "text/plain": [
       "Writing...:   0%|          | 0/2500 [00:00<?, ? examples/s]"
      ]
     },
     "metadata": {},
     "output_type": "display_data"
    },
    {
     "data": {
      "application/vnd.jupyter.widget-view+json": {
       "model_id": "f04eec464b7945ec9ce2da31f2c76dfb",
       "version_major": 2,
       "version_minor": 0
      },
      "text/plain": [
       "Reading...: 0 examples [00:00, ? examples/s]"
      ]
     },
     "metadata": {},
     "output_type": "display_data"
    },
    {
     "data": {
      "application/vnd.jupyter.widget-view+json": {
       "model_id": "9f7a4f42ae224222b284d22d4efe85ff",
       "version_major": 2,
       "version_minor": 0
      },
      "text/plain": [
       "Writing...:   0%|          | 0/2500 [00:00<?, ? examples/s]"
      ]
     },
     "metadata": {},
     "output_type": "display_data"
    },
    {
     "data": {
      "application/vnd.jupyter.widget-view+json": {
       "model_id": "2d9aea59d0f44a3a960da46909e5703b",
       "version_major": 2,
       "version_minor": 0
      },
      "text/plain": [
       "Reading...: 0 examples [00:00, ? examples/s]"
      ]
     },
     "metadata": {},
     "output_type": "display_data"
    },
    {
     "data": {
      "application/vnd.jupyter.widget-view+json": {
       "model_id": "69b4eaa947aa4809871af00b78eea853",
       "version_major": 2,
       "version_minor": 0
      },
      "text/plain": [
       "Writing...:   0%|          | 0/2500 [00:00<?, ? examples/s]"
      ]
     },
     "metadata": {},
     "output_type": "display_data"
    },
    {
     "data": {
      "application/vnd.jupyter.widget-view+json": {
       "model_id": "d8159bd602634c6ab109dc6850c6de2c",
       "version_major": 2,
       "version_minor": 0
      },
      "text/plain": [
       "Reading...: 0 examples [00:00, ? examples/s]"
      ]
     },
     "metadata": {},
     "output_type": "display_data"
    },
    {
     "data": {
      "application/vnd.jupyter.widget-view+json": {
       "model_id": "c2517f1eb948460aa04c281edc3c758e",
       "version_major": 2,
       "version_minor": 0
      },
      "text/plain": [
       "Writing...:   0%|          | 0/2500 [00:00<?, ? examples/s]"
      ]
     },
     "metadata": {},
     "output_type": "display_data"
    },
    {
     "data": {
      "application/vnd.jupyter.widget-view+json": {
       "model_id": "24013bdccff34f358d41caed4a4228a4",
       "version_major": 2,
       "version_minor": 0
      },
      "text/plain": [
       "Reading...: 0 examples [00:00, ? examples/s]"
      ]
     },
     "metadata": {},
     "output_type": "display_data"
    },
    {
     "data": {
      "application/vnd.jupyter.widget-view+json": {
       "model_id": "d739ab1a061d40f888ab264f73ad45ba",
       "version_major": 2,
       "version_minor": 0
      },
      "text/plain": [
       "Writing...:   0%|          | 0/2500 [00:00<?, ? examples/s]"
      ]
     },
     "metadata": {},
     "output_type": "display_data"
    },
    {
     "data": {
      "application/vnd.jupyter.widget-view+json": {
       "model_id": "09445ed72a5446c58af8ce3683baa4d5",
       "version_major": 2,
       "version_minor": 0
      },
      "text/plain": [
       "Reading...: 0 examples [00:00, ? examples/s]"
      ]
     },
     "metadata": {},
     "output_type": "display_data"
    },
    {
     "data": {
      "application/vnd.jupyter.widget-view+json": {
       "model_id": "0ea9c4d758ec44c2b90b3da1fa6749dd",
       "version_major": 2,
       "version_minor": 0
      },
      "text/plain": [
       "Writing...:   0%|          | 0/2500 [00:00<?, ? examples/s]"
      ]
     },
     "metadata": {},
     "output_type": "display_data"
    },
    {
     "data": {
      "application/vnd.jupyter.widget-view+json": {
       "model_id": "f3210f9b459c4e208438e64c0bf1c918",
       "version_major": 2,
       "version_minor": 0
      },
      "text/plain": [
       "Reading...: 0 examples [00:00, ? examples/s]"
      ]
     },
     "metadata": {},
     "output_type": "display_data"
    },
    {
     "data": {
      "application/vnd.jupyter.widget-view+json": {
       "model_id": "807883c0edfc4b1fbabea170284050fc",
       "version_major": 2,
       "version_minor": 0
      },
      "text/plain": [
       "Writing...:   0%|          | 0/2500 [00:00<?, ? examples/s]"
      ]
     },
     "metadata": {},
     "output_type": "display_data"
    },
    {
     "data": {
      "application/vnd.jupyter.widget-view+json": {
       "model_id": "06495743ec664829b1d2e9f62bd1421f",
       "version_major": 2,
       "version_minor": 0
      },
      "text/plain": [
       "0 examples [00:00, ? examples/s]"
      ]
     },
     "metadata": {},
     "output_type": "display_data"
    },
    {
     "data": {
      "application/vnd.jupyter.widget-view+json": {
       "model_id": "415b606350b64583a3e71700980f4cfc",
       "version_major": 2,
       "version_minor": 0
      },
      "text/plain": [
       "Shuffling...:   0%|          | 0/10 [00:00<?, ? shard/s]"
      ]
     },
     "metadata": {},
     "output_type": "display_data"
    },
    {
     "data": {
      "application/vnd.jupyter.widget-view+json": {
       "model_id": "7d49e24787084e628af013aee25b60c2",
       "version_major": 2,
       "version_minor": 0
      },
      "text/plain": [
       "Reading...: 0 examples [00:00, ? examples/s]"
      ]
     },
     "metadata": {},
     "output_type": "display_data"
    },
    {
     "data": {
      "application/vnd.jupyter.widget-view+json": {
       "model_id": "cbd7e39d2f694cdca01a2902fca7921b",
       "version_major": 2,
       "version_minor": 0
      },
      "text/plain": [
       "Writing...:   0%|          | 0/2500 [00:00<?, ? examples/s]"
      ]
     },
     "metadata": {},
     "output_type": "display_data"
    },
    {
     "data": {
      "application/vnd.jupyter.widget-view+json": {
       "model_id": "4d11f6da4b584410a72b75cce6804759",
       "version_major": 2,
       "version_minor": 0
      },
      "text/plain": [
       "Reading...: 0 examples [00:00, ? examples/s]"
      ]
     },
     "metadata": {},
     "output_type": "display_data"
    },
    {
     "data": {
      "application/vnd.jupyter.widget-view+json": {
       "model_id": "2cde0980a9cb4e3e80c7d96594c89fe9",
       "version_major": 2,
       "version_minor": 0
      },
      "text/plain": [
       "Writing...:   0%|          | 0/2500 [00:00<?, ? examples/s]"
      ]
     },
     "metadata": {},
     "output_type": "display_data"
    },
    {
     "data": {
      "application/vnd.jupyter.widget-view+json": {
       "model_id": "9cbd499af68a46878316bd3c1b43425c",
       "version_major": 2,
       "version_minor": 0
      },
      "text/plain": [
       "Reading...: 0 examples [00:00, ? examples/s]"
      ]
     },
     "metadata": {},
     "output_type": "display_data"
    },
    {
     "data": {
      "application/vnd.jupyter.widget-view+json": {
       "model_id": "8b4abade80da47fb877df0d082356f2e",
       "version_major": 2,
       "version_minor": 0
      },
      "text/plain": [
       "Writing...:   0%|          | 0/2500 [00:00<?, ? examples/s]"
      ]
     },
     "metadata": {},
     "output_type": "display_data"
    },
    {
     "data": {
      "application/vnd.jupyter.widget-view+json": {
       "model_id": "ede9d78426dd4a0bbca2bb209eff525b",
       "version_major": 2,
       "version_minor": 0
      },
      "text/plain": [
       "Reading...: 0 examples [00:00, ? examples/s]"
      ]
     },
     "metadata": {},
     "output_type": "display_data"
    },
    {
     "data": {
      "application/vnd.jupyter.widget-view+json": {
       "model_id": "8aeb16f725a84c419ecf7b32c8a766c9",
       "version_major": 2,
       "version_minor": 0
      },
      "text/plain": [
       "Writing...:   0%|          | 0/2500 [00:00<?, ? examples/s]"
      ]
     },
     "metadata": {},
     "output_type": "display_data"
    },
    {
     "data": {
      "application/vnd.jupyter.widget-view+json": {
       "model_id": "43c07e4d5942495aa656f3ee3388868a",
       "version_major": 2,
       "version_minor": 0
      },
      "text/plain": [
       "Reading...: 0 examples [00:00, ? examples/s]"
      ]
     },
     "metadata": {},
     "output_type": "display_data"
    },
    {
     "data": {
      "application/vnd.jupyter.widget-view+json": {
       "model_id": "c5f7dfb9f3c34e689b737e0655fd3218",
       "version_major": 2,
       "version_minor": 0
      },
      "text/plain": [
       "Writing...:   0%|          | 0/2500 [00:00<?, ? examples/s]"
      ]
     },
     "metadata": {},
     "output_type": "display_data"
    },
    {
     "data": {
      "application/vnd.jupyter.widget-view+json": {
       "model_id": "f5181f72ca56404dab83d831b4dbdbea",
       "version_major": 2,
       "version_minor": 0
      },
      "text/plain": [
       "Reading...: 0 examples [00:00, ? examples/s]"
      ]
     },
     "metadata": {},
     "output_type": "display_data"
    },
    {
     "data": {
      "application/vnd.jupyter.widget-view+json": {
       "model_id": "9c116edc916a4cba9de93fb42379b45c",
       "version_major": 2,
       "version_minor": 0
      },
      "text/plain": [
       "Writing...:   0%|          | 0/2500 [00:00<?, ? examples/s]"
      ]
     },
     "metadata": {},
     "output_type": "display_data"
    },
    {
     "data": {
      "application/vnd.jupyter.widget-view+json": {
       "model_id": "3b7bacdbec2e46648d33cc6276bdff32",
       "version_major": 2,
       "version_minor": 0
      },
      "text/plain": [
       "Reading...: 0 examples [00:00, ? examples/s]"
      ]
     },
     "metadata": {},
     "output_type": "display_data"
    },
    {
     "data": {
      "application/vnd.jupyter.widget-view+json": {
       "model_id": "e844aa6a415e48e0b33d533f1e2fdfbb",
       "version_major": 2,
       "version_minor": 0
      },
      "text/plain": [
       "Writing...:   0%|          | 0/2500 [00:00<?, ? examples/s]"
      ]
     },
     "metadata": {},
     "output_type": "display_data"
    },
    {
     "data": {
      "application/vnd.jupyter.widget-view+json": {
       "model_id": "f0bb4908f35a4ee998d87b7ef4afcbf9",
       "version_major": 2,
       "version_minor": 0
      },
      "text/plain": [
       "Reading...: 0 examples [00:00, ? examples/s]"
      ]
     },
     "metadata": {},
     "output_type": "display_data"
    },
    {
     "data": {
      "application/vnd.jupyter.widget-view+json": {
       "model_id": "93e01bcabf5e49da863d6a97248e1025",
       "version_major": 2,
       "version_minor": 0
      },
      "text/plain": [
       "Writing...:   0%|          | 0/2500 [00:00<?, ? examples/s]"
      ]
     },
     "metadata": {},
     "output_type": "display_data"
    },
    {
     "data": {
      "application/vnd.jupyter.widget-view+json": {
       "model_id": "5f3f48d1d7984990aa7584e01ea5ee71",
       "version_major": 2,
       "version_minor": 0
      },
      "text/plain": [
       "Reading...: 0 examples [00:00, ? examples/s]"
      ]
     },
     "metadata": {},
     "output_type": "display_data"
    },
    {
     "data": {
      "application/vnd.jupyter.widget-view+json": {
       "model_id": "1bb7bda61613415395e618777a0e12a0",
       "version_major": 2,
       "version_minor": 0
      },
      "text/plain": [
       "Writing...:   0%|          | 0/2500 [00:00<?, ? examples/s]"
      ]
     },
     "metadata": {},
     "output_type": "display_data"
    },
    {
     "data": {
      "application/vnd.jupyter.widget-view+json": {
       "model_id": "938e54f578f04b60b8ebb55778b37f7c",
       "version_major": 2,
       "version_minor": 0
      },
      "text/plain": [
       "Reading...: 0 examples [00:00, ? examples/s]"
      ]
     },
     "metadata": {},
     "output_type": "display_data"
    },
    {
     "data": {
      "application/vnd.jupyter.widget-view+json": {
       "model_id": "f46c7bd08bd9445da4e4d07e4fb096cd",
       "version_major": 2,
       "version_minor": 0
      },
      "text/plain": [
       "Writing...:   0%|          | 0/2500 [00:00<?, ? examples/s]"
      ]
     },
     "metadata": {},
     "output_type": "display_data"
    },
    {
     "data": {
      "application/vnd.jupyter.widget-view+json": {
       "model_id": "75d1b620c79e4d0c8cb967cd4f77e30e",
       "version_major": 2,
       "version_minor": 0
      },
      "text/plain": [
       "0 examples [00:00, ? examples/s]"
      ]
     },
     "metadata": {},
     "output_type": "display_data"
    },
    {
     "data": {
      "application/vnd.jupyter.widget-view+json": {
       "model_id": "c247277188bb4ebb8686ffa29eb2d885",
       "version_major": 2,
       "version_minor": 0
      },
      "text/plain": [
       "Shuffling...:   0%|          | 0/20 [00:00<?, ? shard/s]"
      ]
     },
     "metadata": {},
     "output_type": "display_data"
    },
    {
     "data": {
      "application/vnd.jupyter.widget-view+json": {
       "model_id": "81ec0ec29b3e4a0bacf4c05b6f7bc272",
       "version_major": 2,
       "version_minor": 0
      },
      "text/plain": [
       "Reading...: 0 examples [00:00, ? examples/s]"
      ]
     },
     "metadata": {},
     "output_type": "display_data"
    },
    {
     "data": {
      "application/vnd.jupyter.widget-view+json": {
       "model_id": "56081d968b5a410c9a39f114359a6daf",
       "version_major": 2,
       "version_minor": 0
      },
      "text/plain": [
       "Writing...:   0%|          | 0/2500 [00:00<?, ? examples/s]"
      ]
     },
     "metadata": {},
     "output_type": "display_data"
    },
    {
     "data": {
      "application/vnd.jupyter.widget-view+json": {
       "model_id": "2d19a0aeef06406b96c45e184f0864b3",
       "version_major": 2,
       "version_minor": 0
      },
      "text/plain": [
       "Reading...: 0 examples [00:00, ? examples/s]"
      ]
     },
     "metadata": {},
     "output_type": "display_data"
    },
    {
     "data": {
      "application/vnd.jupyter.widget-view+json": {
       "model_id": "195d01129d404bfdbf6782f36a1de637",
       "version_major": 2,
       "version_minor": 0
      },
      "text/plain": [
       "Writing...:   0%|          | 0/2500 [00:00<?, ? examples/s]"
      ]
     },
     "metadata": {},
     "output_type": "display_data"
    },
    {
     "data": {
      "application/vnd.jupyter.widget-view+json": {
       "model_id": "9179557c3e4f459a89e1e1e2d286cddb",
       "version_major": 2,
       "version_minor": 0
      },
      "text/plain": [
       "Reading...: 0 examples [00:00, ? examples/s]"
      ]
     },
     "metadata": {},
     "output_type": "display_data"
    },
    {
     "data": {
      "application/vnd.jupyter.widget-view+json": {
       "model_id": "2e132b2dc55042539169b33b95c60a31",
       "version_major": 2,
       "version_minor": 0
      },
      "text/plain": [
       "Writing...:   0%|          | 0/2500 [00:00<?, ? examples/s]"
      ]
     },
     "metadata": {},
     "output_type": "display_data"
    },
    {
     "data": {
      "application/vnd.jupyter.widget-view+json": {
       "model_id": "21e62e9f727f4d88a7df06bba25b9d8a",
       "version_major": 2,
       "version_minor": 0
      },
      "text/plain": [
       "Reading...: 0 examples [00:00, ? examples/s]"
      ]
     },
     "metadata": {},
     "output_type": "display_data"
    },
    {
     "data": {
      "application/vnd.jupyter.widget-view+json": {
       "model_id": "7b50e85153a340f28c8a9405dcb2d90c",
       "version_major": 2,
       "version_minor": 0
      },
      "text/plain": [
       "Writing...:   0%|          | 0/2500 [00:00<?, ? examples/s]"
      ]
     },
     "metadata": {},
     "output_type": "display_data"
    },
    {
     "data": {
      "application/vnd.jupyter.widget-view+json": {
       "model_id": "c22fce5a1714487a873e79eda1c858b4",
       "version_major": 2,
       "version_minor": 0
      },
      "text/plain": [
       "Reading...: 0 examples [00:00, ? examples/s]"
      ]
     },
     "metadata": {},
     "output_type": "display_data"
    },
    {
     "data": {
      "application/vnd.jupyter.widget-view+json": {
       "model_id": "77e4ca6529004031912ecb944527c7e0",
       "version_major": 2,
       "version_minor": 0
      },
      "text/plain": [
       "Writing...:   0%|          | 0/2500 [00:00<?, ? examples/s]"
      ]
     },
     "metadata": {},
     "output_type": "display_data"
    },
    {
     "data": {
      "application/vnd.jupyter.widget-view+json": {
       "model_id": "5e922a26ce7048b4aa740f2222af97a8",
       "version_major": 2,
       "version_minor": 0
      },
      "text/plain": [
       "Reading...: 0 examples [00:00, ? examples/s]"
      ]
     },
     "metadata": {},
     "output_type": "display_data"
    },
    {
     "data": {
      "application/vnd.jupyter.widget-view+json": {
       "model_id": "bfa20de5c8c34b549400917ea97393e2",
       "version_major": 2,
       "version_minor": 0
      },
      "text/plain": [
       "Writing...:   0%|          | 0/2500 [00:00<?, ? examples/s]"
      ]
     },
     "metadata": {},
     "output_type": "display_data"
    },
    {
     "data": {
      "application/vnd.jupyter.widget-view+json": {
       "model_id": "a02f754cd3814582adc59283b3627579",
       "version_major": 2,
       "version_minor": 0
      },
      "text/plain": [
       "Reading...: 0 examples [00:00, ? examples/s]"
      ]
     },
     "metadata": {},
     "output_type": "display_data"
    },
    {
     "data": {
      "application/vnd.jupyter.widget-view+json": {
       "model_id": "5cf159ea32394524a91159e88b7b4a79",
       "version_major": 2,
       "version_minor": 0
      },
      "text/plain": [
       "Writing...:   0%|          | 0/2500 [00:00<?, ? examples/s]"
      ]
     },
     "metadata": {},
     "output_type": "display_data"
    },
    {
     "data": {
      "application/vnd.jupyter.widget-view+json": {
       "model_id": "982074dba38d466e815db5d4b1c1f56a",
       "version_major": 2,
       "version_minor": 0
      },
      "text/plain": [
       "Reading...: 0 examples [00:00, ? examples/s]"
      ]
     },
     "metadata": {},
     "output_type": "display_data"
    },
    {
     "data": {
      "application/vnd.jupyter.widget-view+json": {
       "model_id": "441b3a61d1d544068940903f7f7be405",
       "version_major": 2,
       "version_minor": 0
      },
      "text/plain": [
       "Writing...:   0%|          | 0/2500 [00:00<?, ? examples/s]"
      ]
     },
     "metadata": {},
     "output_type": "display_data"
    },
    {
     "data": {
      "application/vnd.jupyter.widget-view+json": {
       "model_id": "d5f379f7d59d42e3ae09bb5eb41f6adf",
       "version_major": 2,
       "version_minor": 0
      },
      "text/plain": [
       "Reading...: 0 examples [00:00, ? examples/s]"
      ]
     },
     "metadata": {},
     "output_type": "display_data"
    },
    {
     "data": {
      "application/vnd.jupyter.widget-view+json": {
       "model_id": "f667b39b62be4e04a3f5a55588e6be27",
       "version_major": 2,
       "version_minor": 0
      },
      "text/plain": [
       "Writing...:   0%|          | 0/2500 [00:00<?, ? examples/s]"
      ]
     },
     "metadata": {},
     "output_type": "display_data"
    },
    {
     "data": {
      "application/vnd.jupyter.widget-view+json": {
       "model_id": "46b430da87164630980526210c918c1f",
       "version_major": 2,
       "version_minor": 0
      },
      "text/plain": [
       "Reading...: 0 examples [00:00, ? examples/s]"
      ]
     },
     "metadata": {},
     "output_type": "display_data"
    },
    {
     "data": {
      "application/vnd.jupyter.widget-view+json": {
       "model_id": "720c4b4b4aa64fe6810dd02618e03ef3",
       "version_major": 2,
       "version_minor": 0
      },
      "text/plain": [
       "Writing...:   0%|          | 0/2500 [00:00<?, ? examples/s]"
      ]
     },
     "metadata": {},
     "output_type": "display_data"
    },
    {
     "data": {
      "application/vnd.jupyter.widget-view+json": {
       "model_id": "7f0fb2ca6479429a9903d9d3ad77d773",
       "version_major": 2,
       "version_minor": 0
      },
      "text/plain": [
       "Reading...: 0 examples [00:00, ? examples/s]"
      ]
     },
     "metadata": {},
     "output_type": "display_data"
    },
    {
     "data": {
      "application/vnd.jupyter.widget-view+json": {
       "model_id": "4b95a463b00e4d16b842fe5aefa8087c",
       "version_major": 2,
       "version_minor": 0
      },
      "text/plain": [
       "Writing...:   0%|          | 0/2500 [00:00<?, ? examples/s]"
      ]
     },
     "metadata": {},
     "output_type": "display_data"
    },
    {
     "data": {
      "application/vnd.jupyter.widget-view+json": {
       "model_id": "a4ada977926746d198de9278eab5d958",
       "version_major": 2,
       "version_minor": 0
      },
      "text/plain": [
       "Reading...: 0 examples [00:00, ? examples/s]"
      ]
     },
     "metadata": {},
     "output_type": "display_data"
    },
    {
     "data": {
      "application/vnd.jupyter.widget-view+json": {
       "model_id": "ad6019ae13ff4a57a54542178ccbb683",
       "version_major": 2,
       "version_minor": 0
      },
      "text/plain": [
       "Writing...:   0%|          | 0/2500 [00:00<?, ? examples/s]"
      ]
     },
     "metadata": {},
     "output_type": "display_data"
    },
    {
     "data": {
      "application/vnd.jupyter.widget-view+json": {
       "model_id": "7018f36dd2814cc5beb8ab24010570a9",
       "version_major": 2,
       "version_minor": 0
      },
      "text/plain": [
       "Reading...: 0 examples [00:00, ? examples/s]"
      ]
     },
     "metadata": {},
     "output_type": "display_data"
    },
    {
     "data": {
      "application/vnd.jupyter.widget-view+json": {
       "model_id": "387ef94312fe4ebdb7d1ced77fdbf8e1",
       "version_major": 2,
       "version_minor": 0
      },
      "text/plain": [
       "Writing...:   0%|          | 0/2500 [00:00<?, ? examples/s]"
      ]
     },
     "metadata": {},
     "output_type": "display_data"
    },
    {
     "data": {
      "application/vnd.jupyter.widget-view+json": {
       "model_id": "68f392f711c246489023579c30e7f9c1",
       "version_major": 2,
       "version_minor": 0
      },
      "text/plain": [
       "Reading...: 0 examples [00:00, ? examples/s]"
      ]
     },
     "metadata": {},
     "output_type": "display_data"
    },
    {
     "data": {
      "application/vnd.jupyter.widget-view+json": {
       "model_id": "67613d2d6677456a80bb7b88bec3cbe2",
       "version_major": 2,
       "version_minor": 0
      },
      "text/plain": [
       "Writing...:   0%|          | 0/2500 [00:00<?, ? examples/s]"
      ]
     },
     "metadata": {},
     "output_type": "display_data"
    },
    {
     "data": {
      "application/vnd.jupyter.widget-view+json": {
       "model_id": "cd56ecce479d451189cb65ecf8a0a04b",
       "version_major": 2,
       "version_minor": 0
      },
      "text/plain": [
       "Reading...: 0 examples [00:00, ? examples/s]"
      ]
     },
     "metadata": {},
     "output_type": "display_data"
    },
    {
     "data": {
      "application/vnd.jupyter.widget-view+json": {
       "model_id": "ac5ed79696ee475da0c0b73998302ccc",
       "version_major": 2,
       "version_minor": 0
      },
      "text/plain": [
       "Writing...:   0%|          | 0/2500 [00:00<?, ? examples/s]"
      ]
     },
     "metadata": {},
     "output_type": "display_data"
    },
    {
     "data": {
      "application/vnd.jupyter.widget-view+json": {
       "model_id": "1aeaa6008c3f41e88bca71da354d8253",
       "version_major": 2,
       "version_minor": 0
      },
      "text/plain": [
       "Reading...: 0 examples [00:00, ? examples/s]"
      ]
     },
     "metadata": {},
     "output_type": "display_data"
    },
    {
     "data": {
      "application/vnd.jupyter.widget-view+json": {
       "model_id": "9e3ba28ed1904e3892f24715b74e1c02",
       "version_major": 2,
       "version_minor": 0
      },
      "text/plain": [
       "Writing...:   0%|          | 0/2500 [00:00<?, ? examples/s]"
      ]
     },
     "metadata": {},
     "output_type": "display_data"
    },
    {
     "data": {
      "application/vnd.jupyter.widget-view+json": {
       "model_id": "e469912c15204e70aa82808b25d338af",
       "version_major": 2,
       "version_minor": 0
      },
      "text/plain": [
       "Reading...: 0 examples [00:00, ? examples/s]"
      ]
     },
     "metadata": {},
     "output_type": "display_data"
    },
    {
     "data": {
      "application/vnd.jupyter.widget-view+json": {
       "model_id": "a19835162f80484fa87b20932184d01d",
       "version_major": 2,
       "version_minor": 0
      },
      "text/plain": [
       "Writing...:   0%|          | 0/2500 [00:00<?, ? examples/s]"
      ]
     },
     "metadata": {},
     "output_type": "display_data"
    },
    {
     "data": {
      "application/vnd.jupyter.widget-view+json": {
       "model_id": "c5ba36e913ee45c59564e86a1ffe1b3a",
       "version_major": 2,
       "version_minor": 0
      },
      "text/plain": [
       "Reading...: 0 examples [00:00, ? examples/s]"
      ]
     },
     "metadata": {},
     "output_type": "display_data"
    },
    {
     "data": {
      "application/vnd.jupyter.widget-view+json": {
       "model_id": "40de698b1f964bcd9d9bb58451fa492b",
       "version_major": 2,
       "version_minor": 0
      },
      "text/plain": [
       "Writing...:   0%|          | 0/2500 [00:00<?, ? examples/s]"
      ]
     },
     "metadata": {},
     "output_type": "display_data"
    },
    {
     "data": {
      "application/vnd.jupyter.widget-view+json": {
       "model_id": "1d13b649b992466dadfb3335edcc0976",
       "version_major": 2,
       "version_minor": 0
      },
      "text/plain": [
       "Reading...: 0 examples [00:00, ? examples/s]"
      ]
     },
     "metadata": {},
     "output_type": "display_data"
    },
    {
     "data": {
      "application/vnd.jupyter.widget-view+json": {
       "model_id": "fc21a2d29ce749dab60b2ebe327f59f1",
       "version_major": 2,
       "version_minor": 0
      },
      "text/plain": [
       "Writing...:   0%|          | 0/2500 [00:00<?, ? examples/s]"
      ]
     },
     "metadata": {},
     "output_type": "display_data"
    },
    {
     "data": {
      "application/vnd.jupyter.widget-view+json": {
       "model_id": "076a07e1e7c34059b0a53c4fa65ab74a",
       "version_major": 2,
       "version_minor": 0
      },
      "text/plain": [
       "Reading...: 0 examples [00:00, ? examples/s]"
      ]
     },
     "metadata": {},
     "output_type": "display_data"
    },
    {
     "data": {
      "application/vnd.jupyter.widget-view+json": {
       "model_id": "1aa309ec18d24e45a17cbb33c829dd9b",
       "version_major": 2,
       "version_minor": 0
      },
      "text/plain": [
       "Writing...:   0%|          | 0/2500 [00:00<?, ? examples/s]"
      ]
     },
     "metadata": {},
     "output_type": "display_data"
    },
    {
     "ename": "UnicodeDecodeError",
     "evalue": "'utf-8' codec can't decode byte 0xbe in position 175: invalid start byte",
     "output_type": "error",
     "traceback": [
      "\u001b[1;31m---------------------------------------------------------------------------\u001b[0m",
      "\u001b[1;31mUnicodeDecodeError\u001b[0m                        Traceback (most recent call last)",
      "Cell \u001b[1;32mIn[3], line 4\u001b[0m\n\u001b[0;32m      1\u001b[0m \u001b[39mimport\u001b[39;00m \u001b[39mtensorflow\u001b[39;00m \u001b[39mas\u001b[39;00m \u001b[39mtf\u001b[39;00m\n\u001b[0;32m      2\u001b[0m \u001b[39mimport\u001b[39;00m \u001b[39mtensorflow_datasets\u001b[39;00m \u001b[39mas\u001b[39;00m \u001b[39mtfds\u001b[39;00m\n\u001b[1;32m----> 4\u001b[0m datasets, info \u001b[39m=\u001b[39m tfds\u001b[39m.\u001b[39;49mload(\u001b[39m\"\u001b[39;49m\u001b[39mimdb_reviews\u001b[39;49m\u001b[39m\"\u001b[39;49m, as_supervised\u001b[39m=\u001b[39;49m\u001b[39mTrue\u001b[39;49;00m, with_info\u001b[39m=\u001b[39;49m\u001b[39mTrue\u001b[39;49;00m)\n\u001b[0;32m      5\u001b[0m train_size \u001b[39m=\u001b[39m info\u001b[39m.\u001b[39msplits[\u001b[39m\"\u001b[39m\u001b[39mtrain\u001b[39m\u001b[39m\"\u001b[39m]\u001b[39m.\u001b[39mnum_examples\n",
      "File \u001b[1;32md:\\anaconda3\\envs\\ai_learn_opencv_tensorflow\\lib\\site-packages\\tensorflow_datasets\\core\\api_utils.py:52\u001b[0m, in \u001b[0;36mdisallow_positional_args.<locals>.disallow_positional_args_dec\u001b[1;34m(fn, instance, args, kwargs)\u001b[0m\n\u001b[0;32m     50\u001b[0m _check_no_positional(fn, args, ismethod, allowed\u001b[39m=\u001b[39mallowed)\n\u001b[0;32m     51\u001b[0m _check_required(fn, kwargs)\n\u001b[1;32m---> 52\u001b[0m \u001b[39mreturn\u001b[39;00m fn(\u001b[39m*\u001b[39margs, \u001b[39m*\u001b[39m\u001b[39m*\u001b[39mkwargs)\n",
      "File \u001b[1;32md:\\anaconda3\\envs\\ai_learn_opencv_tensorflow\\lib\\site-packages\\tensorflow_datasets\\core\\registered.py:300\u001b[0m, in \u001b[0;36mload\u001b[1;34m(name, split, data_dir, batch_size, in_memory, shuffle_files, download, as_supervised, decoders, with_info, builder_kwargs, download_and_prepare_kwargs, as_dataset_kwargs, try_gcs)\u001b[0m\n\u001b[0;32m    298\u001b[0m \u001b[39mif\u001b[39;00m download:\n\u001b[0;32m    299\u001b[0m   download_and_prepare_kwargs \u001b[39m=\u001b[39m download_and_prepare_kwargs \u001b[39mor\u001b[39;00m {}\n\u001b[1;32m--> 300\u001b[0m   dbuilder\u001b[39m.\u001b[39mdownload_and_prepare(\u001b[39m*\u001b[39m\u001b[39m*\u001b[39mdownload_and_prepare_kwargs)\n\u001b[0;32m    302\u001b[0m \u001b[39mif\u001b[39;00m as_dataset_kwargs \u001b[39mis\u001b[39;00m \u001b[39mNone\u001b[39;00m:\n\u001b[0;32m    303\u001b[0m   as_dataset_kwargs \u001b[39m=\u001b[39m {}\n",
      "File \u001b[1;32md:\\anaconda3\\envs\\ai_learn_opencv_tensorflow\\lib\\site-packages\\tensorflow_datasets\\core\\api_utils.py:52\u001b[0m, in \u001b[0;36mdisallow_positional_args.<locals>.disallow_positional_args_dec\u001b[1;34m(fn, instance, args, kwargs)\u001b[0m\n\u001b[0;32m     50\u001b[0m _check_no_positional(fn, args, ismethod, allowed\u001b[39m=\u001b[39mallowed)\n\u001b[0;32m     51\u001b[0m _check_required(fn, kwargs)\n\u001b[1;32m---> 52\u001b[0m \u001b[39mreturn\u001b[39;00m fn(\u001b[39m*\u001b[39margs, \u001b[39m*\u001b[39m\u001b[39m*\u001b[39mkwargs)\n",
      "File \u001b[1;32md:\\anaconda3\\envs\\ai_learn_opencv_tensorflow\\lib\\site-packages\\tensorflow_datasets\\core\\dataset_builder.py:281\u001b[0m, in \u001b[0;36mDatasetBuilder.download_and_prepare\u001b[1;34m(self, download_dir, download_config)\u001b[0m\n\u001b[0;32m    278\u001b[0m \u001b[39mself\u001b[39m\u001b[39m.\u001b[39m_log_download_bytes()\n\u001b[0;32m    280\u001b[0m \u001b[39m# Create a tmp dir and rename to self._data_dir on successful exit.\u001b[39;00m\n\u001b[1;32m--> 281\u001b[0m \u001b[39mwith\u001b[39;00m file_format_adapter\u001b[39m.\u001b[39mincomplete_dir(\u001b[39mself\u001b[39m\u001b[39m.\u001b[39m_data_dir) \u001b[39mas\u001b[39;00m tmp_data_dir:\n\u001b[0;32m    282\u001b[0m   \u001b[39m# Temporarily assign _data_dir to tmp_data_dir to avoid having to forward\u001b[39;00m\n\u001b[0;32m    283\u001b[0m   \u001b[39m# it to every sub function.\u001b[39;00m\n\u001b[0;32m    284\u001b[0m   \u001b[39mwith\u001b[39;00m utils\u001b[39m.\u001b[39mtemporary_assignment(\u001b[39mself\u001b[39m, \u001b[39m\"\u001b[39m\u001b[39m_data_dir\u001b[39m\u001b[39m\"\u001b[39m, tmp_data_dir):\n\u001b[0;32m    285\u001b[0m     \u001b[39mself\u001b[39m\u001b[39m.\u001b[39m_download_and_prepare(\n\u001b[0;32m    286\u001b[0m         dl_manager\u001b[39m=\u001b[39mdl_manager,\n\u001b[0;32m    287\u001b[0m         download_config\u001b[39m=\u001b[39mdownload_config)\n",
      "File \u001b[1;32md:\\anaconda3\\envs\\ai_learn_opencv_tensorflow\\lib\\contextlib.py:142\u001b[0m, in \u001b[0;36m_GeneratorContextManager.__exit__\u001b[1;34m(self, typ, value, traceback)\u001b[0m\n\u001b[0;32m    140\u001b[0m \u001b[39mif\u001b[39;00m typ \u001b[39mis\u001b[39;00m \u001b[39mNone\u001b[39;00m:\n\u001b[0;32m    141\u001b[0m     \u001b[39mtry\u001b[39;00m:\n\u001b[1;32m--> 142\u001b[0m         \u001b[39mnext\u001b[39;49m(\u001b[39mself\u001b[39;49m\u001b[39m.\u001b[39;49mgen)\n\u001b[0;32m    143\u001b[0m     \u001b[39mexcept\u001b[39;00m \u001b[39mStopIteration\u001b[39;00m:\n\u001b[0;32m    144\u001b[0m         \u001b[39mreturn\u001b[39;00m \u001b[39mFalse\u001b[39;00m\n",
      "File \u001b[1;32md:\\anaconda3\\envs\\ai_learn_opencv_tensorflow\\lib\\site-packages\\tensorflow_datasets\\core\\file_format_adapter.py:200\u001b[0m, in \u001b[0;36mincomplete_dir\u001b[1;34m(dirname)\u001b[0m\n\u001b[0;32m    198\u001b[0m \u001b[39mtry\u001b[39;00m:\n\u001b[0;32m    199\u001b[0m   \u001b[39myield\u001b[39;00m tmp_dir\n\u001b[1;32m--> 200\u001b[0m   tf\u001b[39m.\u001b[39;49mio\u001b[39m.\u001b[39;49mgfile\u001b[39m.\u001b[39;49mrename(tmp_dir, dirname)\n\u001b[0;32m    201\u001b[0m \u001b[39mfinally\u001b[39;00m:\n\u001b[0;32m    202\u001b[0m   \u001b[39mif\u001b[39;00m tf\u001b[39m.\u001b[39mio\u001b[39m.\u001b[39mgfile\u001b[39m.\u001b[39mexists(tmp_dir):\n",
      "File \u001b[1;32md:\\anaconda3\\envs\\ai_learn_opencv_tensorflow\\lib\\site-packages\\tensorflow\\python\\lib\\io\\file_io.py:620\u001b[0m, in \u001b[0;36mrename_v2\u001b[1;34m(src, dst, overwrite)\u001b[0m\n\u001b[0;32m    607\u001b[0m \u001b[39m@tf_export\u001b[39m(\u001b[39m\"\u001b[39m\u001b[39mio.gfile.rename\u001b[39m\u001b[39m\"\u001b[39m)\n\u001b[0;32m    608\u001b[0m \u001b[39mdef\u001b[39;00m \u001b[39mrename_v2\u001b[39m(src, dst, overwrite\u001b[39m=\u001b[39m\u001b[39mFalse\u001b[39;00m):\n\u001b[0;32m    609\u001b[0m   \u001b[39m\"\"\"Rename or move a file / directory.\u001b[39;00m\n\u001b[0;32m    610\u001b[0m \n\u001b[0;32m    611\u001b[0m \u001b[39m  Args:\u001b[39;00m\n\u001b[1;32m   (...)\u001b[0m\n\u001b[0;32m    618\u001b[0m \u001b[39m    errors.OpError: If the operation fails.\u001b[39;00m\n\u001b[0;32m    619\u001b[0m \u001b[39m  \"\"\"\u001b[39;00m\n\u001b[1;32m--> 620\u001b[0m   _pywrap_file_io\u001b[39m.\u001b[39;49mRenameFile(\n\u001b[0;32m    621\u001b[0m       compat\u001b[39m.\u001b[39;49mpath_to_bytes(src), compat\u001b[39m.\u001b[39;49mpath_to_bytes(dst), overwrite)\n",
      "\u001b[1;31mUnicodeDecodeError\u001b[0m: 'utf-8' codec can't decode byte 0xbe in position 175: invalid start byte"
     ]
    }
   ],
   "source": [
    "import tensorflow as tf\n",
    "import tensorflow_datasets as tfds\n",
    "\n",
    "datasets, info = tfds.load(\"imdb_reviews\", as_supervised=True, with_info=True)\n",
    "train_size = info.splits[\"train\"].num_examples"
   ]
  },
  {
   "cell_type": "code",
   "execution_count": null,
   "metadata": {},
   "outputs": [],
   "source": [
    "def preprocess(X_batch, y_batch):\n",
    "    X_batch = tf.strings.substr(X_batch, 0, 300)\n",
    "    X_batch = tf.strings.regex_replace(X_batch, b\"<br\\\\s*/?>\", b\" \")\n",
    "    X_batch = tf.strings.regex_replace(X_batch, b\"[^a-zA-Z']\", b\" \")\n",
    "    X_batch = tf.strings.split(X_batch)\n",
    "    return X_batch.to_tensor(default_value=b\"<pad>\"), y_batch"
   ]
  }
 ],
 "metadata": {
  "kernelspec": {
   "display_name": "ai_learn_opencv_tensorflow",
   "language": "python",
   "name": "python3"
  },
  "language_info": {
   "codemirror_mode": {
    "name": "ipython",
    "version": 3
   },
   "file_extension": ".py",
   "mimetype": "text/x-python",
   "name": "python",
   "nbconvert_exporter": "python",
   "pygments_lexer": "ipython3",
   "version": "3.10.3"
  },
  "orig_nbformat": 4
 },
 "nbformat": 4,
 "nbformat_minor": 2
}
